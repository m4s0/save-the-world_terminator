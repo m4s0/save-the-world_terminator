{
 "cells": [
  {
   "cell_type": "code",
   "execution_count": 6,
   "metadata": {},
   "outputs": [],
   "source": [
    "from __future__ import absolute_import\n",
    "from __future__ import division\n",
    "from __future__ import print_function\n",
    "\n",
    "import argparse\n",
    "import sys\n",
    "import tempfile\n",
    "\n",
    "import numpy\n",
    "\n",
    "from tensorflow.contrib.learn.python.learn import metric_spec\n",
    "from tensorflow.contrib.tensor_forest.client import eval_metrics\n",
    "from tensorflow.contrib.tensor_forest.client import random_forest\n",
    "from tensorflow.contrib.tensor_forest.python import tensor_forest\n",
    "from tensorflow.examples.tutorials.mnist import input_data\n",
    "from tensorflow.python.estimator.inputs import numpy_io\n",
    "from tensorflow.python.platform import app\n"
   ]
  },
  {
   "cell_type": "code",
   "execution_count": 7,
   "metadata": {},
   "outputs": [],
   "source": [
    "FLAGS = None"
   ]
  },
  {
   "cell_type": "code",
   "execution_count": 8,
   "metadata": {},
   "outputs": [],
   "source": [
    "def build_estimator(model_dir):\n",
    "  \"\"\"Build an estimator.\"\"\"\n",
    "  params = tensor_forest.ForestHParams(\n",
    "      num_classes=10,\n",
    "      num_features=784,\n",
    "      num_trees=FLAGS.num_trees,\n",
    "      max_nodes=FLAGS.max_nodes)\n",
    "  graph_builder_class = tensor_forest.RandomForestGraphs\n",
    "  if FLAGS.use_training_loss:\n",
    "    graph_builder_class = tensor_forest.TrainingLossForest\n",
    "  return random_forest.TensorForestEstimator(\n",
    "      params, graph_builder_class=graph_builder_class, model_dir=model_dir)"
   ]
  },
  {
   "cell_type": "code",
   "execution_count": 3,
   "metadata": {},
   "outputs": [],
   "source": [
    "def train_and_eval():\n",
    "  \"\"\"Train and evaluate the model.\"\"\"\n",
    "  model_dir = tempfile.mkdtemp() if not FLAGS.model_dir else FLAGS.model_dir\n",
    "  print('model directory = %s' % model_dir)\n",
    "\n",
    "  est = build_estimator(model_dir)\n",
    "\n",
    "  data_set = input_data.read_data_sets(FLAGS.data_dir, one_hot=False)\n",
    "\n",
    "  train_input_fn = numpy_io.numpy_input_fn(\n",
    "      x={'images': data_set.train.images},\n",
    "      y=data_set.train.labels.astype(numpy.int32),\n",
    "      batch_size=FLAGS.batch_size,\n",
    "      num_epochs=None,\n",
    "      shuffle=True)\n",
    "  est.fit(input_fn=train_input_fn, steps=None)\n",
    "\n",
    "  metric_name = 'accuracy'\n",
    "  metric = {\n",
    "      metric_name:\n",
    "          metric_spec.MetricSpec(\n",
    "              eval_metrics.get_metric(metric_name),\n",
    "              prediction_key=eval_metrics.get_prediction_key(metric_name))\n",
    "  }\n",
    "\n",
    "  test_input_fn = numpy_io.numpy_input_fn(\n",
    "      x={'images': data_set.test.images},\n",
    "      y=data_set.test.labels.astype(numpy.int32),\n",
    "      num_epochs=1,\n",
    "      batch_size=FLAGS.batch_size,\n",
    "      shuffle=False)\n",
    "\n",
    "  results = est.evaluate(input_fn=test_input_fn, metrics=metric)\n",
    "  for key in sorted(results):\n",
    "    print('%s: %s' % (key, results[key]))\n"
   ]
  },
  {
   "cell_type": "code",
   "execution_count": 4,
   "metadata": {},
   "outputs": [],
   "source": [
    "def main(_):\n",
    "  train_and_eval()\n"
   ]
  },
  {
   "cell_type": "code",
   "execution_count": 5,
   "metadata": {},
   "outputs": [
    {
     "ename": "NameError",
     "evalue": "name 'argparse' is not defined",
     "output_type": "error",
     "traceback": [
      "\u001b[0;31m---------------------------------------------------------------------------\u001b[0m",
      "\u001b[0;31mNameError\u001b[0m                                 Traceback (most recent call last)",
      "\u001b[0;32m<ipython-input-5-2bc7c54b18ee>\u001b[0m in \u001b[0;36m<module>\u001b[0;34m()\u001b[0m\n\u001b[1;32m      1\u001b[0m \u001b[0;32mif\u001b[0m \u001b[0m__name__\u001b[0m \u001b[0;34m==\u001b[0m \u001b[0;34m'__main__'\u001b[0m\u001b[0;34m:\u001b[0m\u001b[0;34m\u001b[0m\u001b[0m\n\u001b[0;32m----> 2\u001b[0;31m   \u001b[0mparser\u001b[0m \u001b[0;34m=\u001b[0m \u001b[0margparse\u001b[0m\u001b[0;34m.\u001b[0m\u001b[0mArgumentParser\u001b[0m\u001b[0;34m(\u001b[0m\u001b[0;34m)\u001b[0m\u001b[0;34m\u001b[0m\u001b[0m\n\u001b[0m\u001b[1;32m      3\u001b[0m   parser.add_argument(\n\u001b[1;32m      4\u001b[0m       \u001b[0;34m'--model_dir'\u001b[0m\u001b[0;34m,\u001b[0m\u001b[0;34m\u001b[0m\u001b[0m\n\u001b[1;32m      5\u001b[0m       \u001b[0mtype\u001b[0m\u001b[0;34m=\u001b[0m\u001b[0mstr\u001b[0m\u001b[0;34m,\u001b[0m\u001b[0;34m\u001b[0m\u001b[0m\n",
      "\u001b[0;31mNameError\u001b[0m: name 'argparse' is not defined"
     ]
    }
   ],
   "source": [
    "if __name__ == '__main__':\n",
    "  parser = argparse.ArgumentParser()\n",
    "  parser.add_argument(\n",
    "      '--model_dir',\n",
    "      type=str,\n",
    "      default='',\n",
    "      help='Base directory for output models.'\n",
    "  )\n",
    "  parser.add_argument(\n",
    "      '--data_dir',\n",
    "      type=str,\n",
    "      default='/tmp/data/',\n",
    "      help='Directory for storing data'\n",
    "  )\n",
    "  parser.add_argument(\n",
    "      '--train_steps',\n",
    "      type=int,\n",
    "      default=1000,\n",
    "      help='Number of training steps.'\n",
    "  )\n",
    "  parser.add_argument(\n",
    "      '--batch_size',\n",
    "      type=str,\n",
    "      default=1000,\n",
    "      help='Number of examples in a training batch.'\n",
    "  )\n",
    "  parser.add_argument(\n",
    "      '--num_trees',\n",
    "      type=int,\n",
    "      default=100,\n",
    "      help='Number of trees in the forest.'\n",
    "  )\n",
    "  parser.add_argument(\n",
    "      '--max_nodes',\n",
    "      type=int,\n",
    "      default=1000,\n",
    "      help='Max total nodes in a single tree.'\n",
    "  )\n",
    "  parser.add_argument(\n",
    "      '--use_training_loss',\n",
    "      type=bool,\n",
    "      default=False,\n",
    "      help='If true, use training loss as termination criteria.'\n",
    "  )\n"
   ]
  },
  {
   "cell_type": "code",
   "execution_count": null,
   "metadata": {},
   "outputs": [],
   "source": []
  }
 ],
 "metadata": {
  "kernelspec": {
   "display_name": "Python 2",
   "language": "python",
   "name": "python2"
  },
  "language_info": {
   "codemirror_mode": {
    "name": "ipython",
    "version": 2
   },
   "file_extension": ".py",
   "mimetype": "text/x-python",
   "name": "python",
   "nbconvert_exporter": "python",
   "pygments_lexer": "ipython2",
   "version": "2.7.13"
  }
 },
 "nbformat": 4,
 "nbformat_minor": 1
}
