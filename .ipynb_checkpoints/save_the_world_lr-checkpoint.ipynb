{
 "cells": [
  {
   "cell_type": "code",
   "execution_count": 22,
   "metadata": {},
   "outputs": [],
   "source": [
    "import tensorflow as tf\n",
    "import pandas as pd\n",
    "\n",
    "from sklearn.datasets import load_boston\n",
    "from sklearn.preprocessing import scale\n",
    "from matplotlib import pyplot as plt"
   ]
  },
  {
   "cell_type": "code",
   "execution_count": null,
   "metadata": {},
   "outputs": [],
   "source": []
  },
  {
   "cell_type": "code",
   "execution_count": 119,
   "metadata": {},
   "outputs": [],
   "source": [
    "def load_data():\n",
    "    precipitazioni = pd.read_csv('_data/2017_precipitazioni.csv')\n",
    "    vento = pd.read_csv('_data/2017_vento.csv')\n",
    "    temperatura = pd.read_csv('_data/2017_temperatura.csv')\n",
    "    pm10 = pd.read_csv('_data/2017_pm10.csv')\n",
    "    \n",
    "    p = precipitazioni.drop([\"Id Sensore\", \"Valore Minimo orario\", \"Valore Massimo orario\"], axis=1)\n",
    "    p = p.rename(columns={\"Valore Cumulato su 24h\": \"precipitazione\"})\n",
    "\n",
    "    v = vento.drop([\"Id Sensore\", \"Valore Minimo orario\", \"Valore Massimo orario\"], axis=1)\n",
    "    v = v.rename(columns={\"Valore Medio giornaliero\": \"vento\"})\n",
    "\n",
    "    t = temperatura.drop([\"Id Sensore\", \"Valore Minimo orario\", \"Valore Massimo orario\"], axis=1)\n",
    "    t = t.rename(columns={\"Valore Medio giornaliero\": \"temperatura\"})\n",
    "    \n",
    "    merged = p.merge(v, on='Data-Ora', how='outer')\n",
    "    merged = merged.merge(t, on='Data-Ora', how='outer')\n",
    "    merged = merged.drop(\"Data-Ora\", axis=1)\n",
    "\n",
    "    pm10 = pm10.drop(\"Id Sensore\", axis=1)\n",
    "    pm10 = pm10.drop(\"Data-Ora\", axis=1)\n",
    "    \n",
    "    \n",
    "    return [merged, pm10]"
   ]
  },
  {
   "cell_type": "code",
   "execution_count": 141,
   "metadata": {},
   "outputs": [],
   "source": [
    "def calc(x, y):\n",
    "    # Returns predictions and error\n",
    "    predictions = tf.add(b, tf.matmul(x, w))\n",
    "    \n",
    "    print(predictions.shape)\n",
    "    print(y.shape)\n",
    "    \n",
    "    #error = tf.reduce_mean(tf.square(y - predictions))\n",
    "    error = 0\n",
    "  \n",
    "    return [ predictions, error ]"
   ]
  },
  {
   "cell_type": "code",
   "execution_count": 131,
   "metadata": {},
   "outputs": [],
   "source": [
    "# Get the data\n",
    "#total_features, total_pollution = load_data()\n",
    "total_features, total_pollution = load_data()"
   ]
  },
  {
   "cell_type": "code",
   "execution_count": 133,
   "metadata": {},
   "outputs": [],
   "source": [
    "# Keep 300 samples for training\n",
    "train_features = scale(total_features[:219])\n",
    "train_pollution = total_pollution[:219]\n",
    "\n",
    "# Keep 100 samples for validation\n",
    "valid_features = scale(total_features[219:292])\n",
    "valid_pollution = total_pollution[219:292]\n",
    "\n",
    "# Keep remaining samples as test set\n",
    "test_features = scale(total_features[292:365])\n",
    "test_pollution = total_pollution[292:365]"
   ]
  },
  {
   "cell_type": "code",
   "execution_count": 142,
   "metadata": {},
   "outputs": [
    {
     "name": "stdout",
     "output_type": "stream",
     "text": [
      "(219, 1)\n"
     ]
    }
   ],
   "source": [
    "y, cost = calc(train_features, train_pollution)\n",
    "# Feel free to tweak these 2 values:\n",
    "learning_rate = 0.025\n",
    "epochs = 3000\n",
    "points = [[], []] # You'll see later why I need this"
   ]
  },
  {
   "cell_type": "code",
   "execution_count": 129,
   "metadata": {},
   "outputs": [],
   "source": [
    "w = tf.Variable(tf.truncated_normal([3, 1], mean=0.0, stddev=1.0, dtype=tf.float64))\n",
    "b = tf.Variable(tf.zeros(1, dtype = tf.float64))"
   ]
  },
  {
   "cell_type": "code",
   "execution_count": 130,
   "metadata": {},
   "outputs": [],
   "source": [
    "init = tf.global_variables_initializer()\n",
    "optimizer = tf.train.GradientDescentOptimizer(learning_rate).minimize(cost)"
   ]
  },
  {
   "cell_type": "code",
   "execution_count": 19,
   "metadata": {},
   "outputs": [
    {
     "name": "stdout",
     "output_type": "stream",
     "text": [
      "573.619685533\n",
      "65.5919336915\n",
      "65.5006489344\n",
      "65.4893695113\n",
      "65.4869232337\n",
      "65.4863133796\n",
      "65.4861513205\n",
      "65.4861066948\n",
      "65.4860941392\n",
      "65.4860905602\n",
      "65.4860895319\n",
      "65.4860892351\n",
      "65.4860891492\n",
      "65.4860891243\n",
      "65.486089117\n",
      "65.4860891149\n",
      "65.4860891143\n",
      "65.4860891141\n",
      "65.4860891141\n",
      "65.4860891141\n",
      "65.4860891141\n",
      "65.4860891141\n",
      "65.4860891141\n",
      "65.4860891141\n",
      "65.4860891141\n",
      "65.4860891141\n",
      "65.4860891141\n",
      "65.4860891141\n",
      "65.4860891141\n",
      "65.4860891141\n"
     ]
    },
    {
     "data": {
      "image/png": "[encoded data removed]",
      "text/plain": [
       "<matplotlib.figure.Figure at 0x11cc88a10>"
      ]
     },
     "metadata": {},
     "output_type": "display_data"
    },
    {
     "name": "stdout",
     "output_type": "stream",
     "text": [
      "('Validation error =', 1054.1632894434608, '\\n')\n"
     ]
    }
   ],
   "source": [
    "with tf.Session() as sess:\n",
    "\n",
    "    sess.run(init)\n",
    "\n",
    "    for i in list(range(epochs)):\n",
    "\n",
    "        sess.run(optimizer)\n",
    "\n",
    "        if i % 10 == 0.:\n",
    "            points[0].append(i+1)\n",
    "            points[1].append(sess.run(cost))\n",
    "\n",
    "        if i % 100 == 0:\n",
    "            print(sess.run(cost))\n",
    "\n",
    "    plt.plot(points[0], points[1], 'r--')\n",
    "    plt.axis([0, epochs, 50, 600])\n",
    "    plt.show()\n",
    "\n",
    "    valid_cost = calc(valid_features, valid_prices)[1]\n",
    "\n",
    "    print('Validation error =', sess.run(valid_cost), '\\n')\n",
    "\n",
    "    test_cost = calc(test_features, test_prices)[1]\n",
    "\n",
    "    # print('Test error =', sess.run(test_cost), '\\n')"
   ]
  },
  {
   "cell_type": "code",
   "execution_count": null,
   "metadata": {},
   "outputs": [],
   "source": []
  }
 ],
 "metadata": {
  "kernelspec": {
   "display_name": "Python 2",
   "language": "python",
   "name": "python2"
  },
  "language_info": {
   "codemirror_mode": {
    "name": "ipython",
    "version": 2
   },
   "file_extension": ".py",
   "mimetype": "text/x-python",
   "name": "python",
   "nbconvert_exporter": "python",
   "pygments_lexer": "ipython2",
   "version": "2.7.13"
  }
 },
 "nbformat": 4,
 "nbformat_minor": 2
}
